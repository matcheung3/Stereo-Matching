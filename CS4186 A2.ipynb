{
 "cells": [
  {
   "cell_type": "code",
   "execution_count": 1,
   "metadata": {},
   "outputs": [],
   "source": [
    "import cv2\n",
    "import numpy as np"
   ]
  },
  {
   "cell_type": "code",
   "execution_count": 2,
   "metadata": {},
   "outputs": [],
   "source": [
    "def compute_disparity_map(image_left, image_right, disp_gt):\n",
    "    # Load input images as grayscale\n",
    "    view1 = cv2.imread(image_left, cv2.IMREAD_GRAYSCALE)\n",
    "    view5 = cv2.imread(image_right, cv2.IMREAD_GRAYSCALE)\n",
    "    disp1_gt = cv2.imread(disp_gt, cv2.IMREAD_GRAYSCALE)\n",
    "\n",
    "    # Apply Gaussian filter to input images\n",
    "    view1 = cv2.GaussianBlur(view1, (5, 5), 0)\n",
    "    view5 = cv2.GaussianBlur(view5, (5, 5), 0)\n",
    "\n",
    "    # Compute disparity map using StereoSGBM\n",
    "    window_size = 18\n",
    "    min_disp = 1\n",
    "    num_disp = 256\n",
    "    stereo = cv2.StereoSGBM_create(minDisparity=min_disp, numDisparities=num_disp, blockSize=window_size)\n",
    "    disp = stereo.compute(view1, view5)\n",
    "\n",
    "    # Convert disparity map to 8-bit\n",
    "    disp = cv2.normalize(disp, None, 0, 255, cv2.NORM_MINMAX, cv2.CV_8U)\n",
    "\n",
    "    # Compute PSNR\n",
    "    psnr = cv2.PSNR(disp1_gt, disp)\n",
    "\n",
    "    return disp, psnr"
   ]
  },
  {
   "cell_type": "code",
   "execution_count": null,
   "metadata": {},
   "outputs": [],
   "source": [
    "# Define input images and ground truth disparity maps\n",
    "image_left_1 = '.\\\\Art\\\\view1.png'\n",
    "image_right_1 = '.\\\\Art\\\\view5.png'\n",
    "disp_gt_1 = '.\\\\Art\\\\disp1.png'\n"
   ]
  },
  {
   "cell_type": "code",
   "execution_count": 4,
   "metadata": {},
   "outputs": [],
   "source": [
    "# Compute disparity map and PSNR value for one input image\n",
    "disp_map_1, psnr_1 = compute_disparity_map(image_left_1, image_right_1, disp_gt_1)"
   ]
  },
  {
   "cell_type": "code",
   "execution_count": 5,
   "metadata": {},
   "outputs": [
    {
     "name": "stdout",
     "output_type": "stream",
     "text": [
      "PSNR:  10.240450218694834\n"
     ]
    }
   ],
   "source": [
    "# Show the result disparity map and PSNR\n",
    "cv2.imshow(\"Disparity Map\", disp_map_1)\n",
    "print(\"PSNR: \", psnr_1)\n",
    "cv2.waitKey(0)\n",
    "cv2.destroyAllWindows()"
   ]
  },
  {
   "cell_type": "code",
   "execution_count": null,
   "metadata": {},
   "outputs": [],
   "source": [
    "# Define input images and ground truth disparity maps\n",
    "image_left_2 = '.\\\\Dolls\\\\view1.png'\n",
    "image_right_2 = '.\\\\Dolls\\\\view5.png'\n",
    "disp_gt_2 = '.\\\\Dolls\\\\disp1.png'\n"
   ]
  },
  {
   "cell_type": "code",
   "execution_count": 7,
   "metadata": {},
   "outputs": [],
   "source": [
    "# Compute disparity map and PSNR value for one input image\n",
    "disp_map_2, psnr_2 = compute_disparity_map(image_left_2, image_right_2, disp_gt_2)"
   ]
  },
  {
   "cell_type": "code",
   "execution_count": 8,
   "metadata": {},
   "outputs": [
    {
     "name": "stdout",
     "output_type": "stream",
     "text": [
      "PSNR:  11.655437958096734\n"
     ]
    }
   ],
   "source": [
    "# Show the result disparity map and PSNR\n",
    "cv2.imshow(\"Disparity Map\", disp_map_2)\n",
    "print(\"PSNR: \", psnr_2)\n",
    "cv2.waitKey(0)\n",
    "cv2.destroyAllWindows()"
   ]
  },
  {
   "cell_type": "code",
   "execution_count": null,
   "metadata": {},
   "outputs": [],
   "source": [
    "# Define input images and ground truth disparity maps\n",
    "image_left_3 = '.\\\\Reindeer\\\\view1.png'\n",
    "image_right_3 = '.\\\\Reindeer\\\\view5.png'\n",
    "disp_gt_3 = '.\\\\Reindeer\\\\disp1.png'"
   ]
  },
  {
   "cell_type": "code",
   "execution_count": 10,
   "metadata": {},
   "outputs": [],
   "source": [
    "# Compute disparity map and PSNR value for one input image\n",
    "disp_map_3, psnr_3 = compute_disparity_map(image_left_3, image_right_3, disp_gt_3)"
   ]
  },
  {
   "cell_type": "code",
   "execution_count": 11,
   "metadata": {},
   "outputs": [
    {
     "name": "stdout",
     "output_type": "stream",
     "text": [
      "PSNR:  11.722141034775053\n"
     ]
    }
   ],
   "source": [
    "# Show the result disparity map and PSNR\n",
    "cv2.imshow(\"Disparity Map\", disp_map_3)\n",
    "print(\"PSNR: \", psnr_3)\n",
    "cv2.waitKey(0)\n",
    "cv2.destroyAllWindows()"
   ]
  }
 ],
 "metadata": {
  "kernelspec": {
   "display_name": "OpenCV",
   "language": "python",
   "name": "python3"
  },
  "language_info": {
   "codemirror_mode": {
    "name": "ipython",
    "version": 3
   },
   "file_extension": ".py",
   "mimetype": "text/x-python",
   "name": "python",
   "nbconvert_exporter": "python",
   "pygments_lexer": "ipython3",
   "version": "3.10.10"
  },
  "orig_nbformat": 4
 },
 "nbformat": 4,
 "nbformat_minor": 2
}
